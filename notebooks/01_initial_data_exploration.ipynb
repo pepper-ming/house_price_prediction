{
 "cells": [
  {
   "cell_type": "markdown",
   "id": "30d3b7a3",
   "metadata": {},
   "source": [
    "# 01. 初始資料探索\n",
    "\n",
    "這個 notebook 進行初步的資料探索，對應第1週的任務：\n",
    "- 載入 Kaggle 房價資料集\n",
    "- 初步資料品質評估\n",
    "- 基本統計分析\n",
    "- 識別資料問題\n",
    "\n",
    "## 1. 環境設定"
   ]
  },
  {
   "cell_type": "code",
   "execution_count": 1,
   "id": "9baf9f36",
   "metadata": {},
   "outputs": [
    {
     "data": {
      "text/html": [
       "<pre style=\"white-space:pre;overflow-x:auto;line-height:normal;font-family:Menlo,'DejaVu Sans Mono',consolas,'Courier New',monospace\"><span style=\"color: #7fbfbf; text-decoration-color: #7fbfbf\">[06/09/25 16:36:56] </span><span style=\"color: #000080; text-decoration-color: #000080\">INFO    </span> 開始初始資料探索                                                          <a href=\"file://D:\\house_price_prediction\\src\\utils\\logger.py\" target=\"_blank\"><span style=\"color: #7f7f7f; text-decoration-color: #7f7f7f\">logger.py</span></a><span style=\"color: #7f7f7f; text-decoration-color: #7f7f7f\">:</span><a href=\"file://D:\\house_price_prediction\\src\\utils\\logger.py#97\" target=\"_blank\"><span style=\"color: #7f7f7f; text-decoration-color: #7f7f7f\">97</span></a>\n",
       "</pre>\n"
      ],
      "text/plain": [
       "\u001b[2;36m[06/09/25 16:36:56]\u001b[0m\u001b[2;36m \u001b[0m\u001b[34mINFO    \u001b[0m 開始初始資料探索                                                          \u001b]8;id=982979;file://D:\\house_price_prediction\\src\\utils\\logger.py\u001b\\\u001b[2mlogger.py\u001b[0m\u001b]8;;\u001b\\\u001b[2m:\u001b[0m\u001b]8;id=866520;file://D:\\house_price_prediction\\src\\utils\\logger.py#97\u001b\\\u001b[2m97\u001b[0m\u001b]8;;\u001b\\\n"
      ]
     },
     "metadata": {},
     "output_type": "display_data"
    }
   ],
   "source": [
    "# 設定路徑，讓我們能夠導入 src 模組\n",
    "import sys\n",
    "from pathlib import Path\n",
    "\n",
    "# 將專案根目錄加入 Python 路徑\n",
    "project_root = Path.cwd().parent\n",
    "if str(project_root) not in sys.path:\n",
    "    sys.path.insert(0, str(project_root))\n",
    "\n",
    "# 導入必要的套件\n",
    "import pandas as pd\n",
    "import numpy as np\n",
    "import matplotlib.pyplot as plt\n",
    "import seaborn as sns\n",
    "from rich import print\n",
    "import warnings\n",
    "\n",
    "# 設定顯示選項\n",
    "pd.set_option('display.max_columns', None)\n",
    "pd.set_option('display.max_rows', 100)\n",
    "warnings.filterwarnings('ignore')\n",
    "\n",
    "# 設定視覺化風格\n",
    "plt.style.use('seaborn-v0_8-darkgrid')\n",
    "sns.set_palette('husl')\n",
    "\n",
    "# 導入我們的模組\n",
    "from src.data.ingestion import DataIngestion\n",
    "from src.utils.logger import get_logger\n",
    "\n",
    "logger = get_logger('01_initial_exploration')\n",
    "logger.info('開始初始資料探索')"
   ]
  },
  {
   "cell_type": "markdown",
   "id": "57314b79",
   "metadata": {},
   "source": [
    "## 2. 載入資料"
   ]
  },
  {
   "cell_type": "code",
   "execution_count": 2,
   "id": "62a56bf1",
   "metadata": {},
   "outputs": [
    {
     "ename": "TypeError",
     "evalue": "argument should be a str or an os.PathLike object where __fspath__ returns a str, not 'NoneType'",
     "output_type": "error",
     "traceback": [
      "\u001b[31m---------------------------------------------------------------------------\u001b[39m",
      "\u001b[31mTypeError\u001b[39m                                 Traceback (most recent call last)",
      "\u001b[36mCell\u001b[39m\u001b[36m \u001b[39m\u001b[32mIn[2]\u001b[39m\u001b[32m, line 2\u001b[39m\n\u001b[32m      1\u001b[39m \u001b[38;5;66;03m# 建立資料載入器\u001b[39;00m\n\u001b[32m----> \u001b[39m\u001b[32m2\u001b[39m data_loader = \u001b[43mDataIngestion\u001b[49m\u001b[43m(\u001b[49m\u001b[43m)\u001b[49m\n\u001b[32m      4\u001b[39m \u001b[38;5;66;03m# 載入資料（如果資料不存在會自動下載）\u001b[39;00m\n\u001b[32m      5\u001b[39m \u001b[38;5;28;01mtry\u001b[39;00m:\n",
      "\u001b[36mFile \u001b[39m\u001b[32mD:\\house_price_prediction\\src\\data\\ingestion.py:32\u001b[39m, in \u001b[36mDataIngestion.__init__\u001b[39m\u001b[34m(self)\u001b[39m\n\u001b[32m     30\u001b[39m \u001b[38;5;250m\u001b[39m\u001b[33;03m\"\"\"初始化資料載入器\"\"\"\u001b[39;00m\n\u001b[32m     31\u001b[39m \u001b[38;5;28mself\u001b[39m.data_config = get_config(\u001b[33m'\u001b[39m\u001b[33mdata\u001b[39m\u001b[33m'\u001b[39m)\n\u001b[32m---> \u001b[39m\u001b[32m32\u001b[39m \u001b[38;5;28mself\u001b[39m.train_path = \u001b[43mPath\u001b[49m\u001b[43m(\u001b[49m\u001b[43mget_config\u001b[49m\u001b[43m(\u001b[49m\u001b[33;43m'\u001b[39;49m\u001b[33;43mdata.paths.train_raw\u001b[39;49m\u001b[33;43m'\u001b[39;49m\u001b[43m)\u001b[49m\u001b[43m)\u001b[49m\n\u001b[32m     33\u001b[39m \u001b[38;5;28mself\u001b[39m.test_path = Path(get_config(\u001b[33m'\u001b[39m\u001b[33mdata.paths.test_raw\u001b[39m\u001b[33m'\u001b[39m))\n\u001b[32m     34\u001b[39m \u001b[38;5;28mself\u001b[39m.target_column = get_config(\u001b[33m'\u001b[39m\u001b[33mdata.target_column\u001b[39m\u001b[33m'\u001b[39m)\n",
      "\u001b[36mFile \u001b[39m\u001b[32m~\\AppData\\Local\\Programs\\Python\\Python312\\Lib\\pathlib.py:1162\u001b[39m, in \u001b[36mPath.__init__\u001b[39m\u001b[34m(self, *args, **kwargs)\u001b[39m\n\u001b[32m   1159\u001b[39m     msg = (\u001b[33m\"\u001b[39m\u001b[33msupport for supplying keyword arguments to pathlib.PurePath \u001b[39m\u001b[33m\"\u001b[39m\n\u001b[32m   1160\u001b[39m            \u001b[33m\"\u001b[39m\u001b[33mis deprecated and scheduled for removal in Python \u001b[39m\u001b[38;5;132;01m{remove}\u001b[39;00m\u001b[33m\"\u001b[39m)\n\u001b[32m   1161\u001b[39m     warnings._deprecated(\u001b[33m\"\u001b[39m\u001b[33mpathlib.PurePath(**kwargs)\u001b[39m\u001b[33m\"\u001b[39m, msg, remove=(\u001b[32m3\u001b[39m, \u001b[32m14\u001b[39m))\n\u001b[32m-> \u001b[39m\u001b[32m1162\u001b[39m \u001b[38;5;28;43msuper\u001b[39;49m\u001b[43m(\u001b[49m\u001b[43m)\u001b[49m\u001b[43m.\u001b[49m\u001b[34;43m__init__\u001b[39;49m\u001b[43m(\u001b[49m\u001b[43m*\u001b[49m\u001b[43margs\u001b[49m\u001b[43m)\u001b[49m\n",
      "\u001b[36mFile \u001b[39m\u001b[32m~\\AppData\\Local\\Programs\\Python\\Python312\\Lib\\pathlib.py:373\u001b[39m, in \u001b[36mPurePath.__init__\u001b[39m\u001b[34m(self, *args)\u001b[39m\n\u001b[32m    371\u001b[39m             path = arg\n\u001b[32m    372\u001b[39m         \u001b[38;5;28;01mif\u001b[39;00m \u001b[38;5;129;01mnot\u001b[39;00m \u001b[38;5;28misinstance\u001b[39m(path, \u001b[38;5;28mstr\u001b[39m):\n\u001b[32m--> \u001b[39m\u001b[32m373\u001b[39m             \u001b[38;5;28;01mraise\u001b[39;00m \u001b[38;5;167;01mTypeError\u001b[39;00m(\n\u001b[32m    374\u001b[39m                 \u001b[33m\"\u001b[39m\u001b[33margument should be a str or an os.PathLike \u001b[39m\u001b[33m\"\u001b[39m\n\u001b[32m    375\u001b[39m                 \u001b[33m\"\u001b[39m\u001b[33mobject where __fspath__ returns a str, \u001b[39m\u001b[33m\"\u001b[39m\n\u001b[32m    376\u001b[39m                 \u001b[33mf\u001b[39m\u001b[33m\"\u001b[39m\u001b[33mnot \u001b[39m\u001b[38;5;132;01m{\u001b[39;00m\u001b[38;5;28mtype\u001b[39m(path).\u001b[34m__name__\u001b[39m\u001b[38;5;132;01m!r}\u001b[39;00m\u001b[33m\"\u001b[39m)\n\u001b[32m    377\u001b[39m         paths.append(path)\n\u001b[32m    378\u001b[39m \u001b[38;5;28mself\u001b[39m._raw_paths = paths\n",
      "\u001b[31mTypeError\u001b[39m: argument should be a str or an os.PathLike object where __fspath__ returns a str, not 'NoneType'"
     ]
    }
   ],
   "source": [
    "# 建立資料載入器\n",
    "data_loader = DataIngestion()\n",
    "\n",
    "# 載入資料（如果資料不存在會自動下載）\n",
    "try:\n",
    "    train_df, test_df = data_loader.load_data()\n",
    "    print(f\"[green]✓ 資料載入成功！[/green]\")\n",
    "    print(f\"訓練資料: {train_df.shape}\")\n",
    "    print(f\"測試資料: {test_df.shape}\")\n",
    "except Exception as e:\n",
    "    print(f\"[red]✗ 資料載入失敗: {str(e)}[/red]\")\n",
    "    print(\"請確認：\")\n",
    "    print(\"1. 是否已設定 Kaggle API (~/.kaggle/kaggle.json)\")\n",
    "    print(\"2. 或手動下載資料到 data/raw/ 目錄\")"
   ]
  },
  {
   "cell_type": "markdown",
   "id": "7f033159",
   "metadata": {},
   "source": [
    "## 3. 資料基本資訊"
   ]
  },
  {
   "cell_type": "code",
   "execution_count": null,
   "id": "8147be53",
   "metadata": {},
   "outputs": [],
   "source": [
    "# 顯示前幾筆資料\n",
    "print(\"[bold]訓練資料前5筆：[/bold]\")\n",
    "train_df.head()"
   ]
  },
  {
   "cell_type": "code",
   "execution_count": null,
   "id": "0ac8618a",
   "metadata": {},
   "outputs": [],
   "source": [
    "# 資料基本資訊\n",
    "print(\"[bold]資料型態統計：[/bold]\")\n",
    "print(train_df.dtypes.value_counts())\n",
    "print(\"\\n[bold]數值型欄位：[/bold]\")\n",
    "numeric_columns = train_df.select_dtypes(include=[np.number]).columns.tolist()\n",
    "print(f\"共 {len(numeric_columns)} 個數值型欄位\")\n",
    "print(\"\\n[bold]類別型欄位：[/bold]\")\n",
    "categorical_columns = train_df.select_dtypes(include=['object']).columns.tolist()\n",
    "print(f\"共 {len(categorical_columns)} 個類別型欄位\")"
   ]
  },
  {
   "cell_type": "markdown",
   "id": "30abee1e",
   "metadata": {},
   "source": [
    "## 4. 目標變數分析"
   ]
  },
  {
   "cell_type": "code",
   "execution_count": null,
   "id": "872bb7f3",
   "metadata": {},
   "outputs": [],
   "source": [
    "# 目標變數（房價）的分佈\n",
    "fig, axes = plt.subplots(1, 3, figsize=(15, 5))\n",
    "\n",
    "# 直方圖\n",
    "axes[0].hist(train_df['SalePrice'], bins=50, edgecolor='black', alpha=0.7)\n",
    "axes[0].set_title('房價分佈')\n",
    "axes[0].set_xlabel('房價 (USD)')\n",
    "axes[0].set_ylabel('頻率')\n",
    "\n",
    "# Q-Q plot\n",
    "from scipy import stats\n",
    "stats.probplot(train_df['SalePrice'], dist=\"norm\", plot=axes[1])\n",
    "axes[1].set_title('Q-Q Plot')\n",
    "\n",
    "# 對數轉換後的分佈\n",
    "log_price = np.log1p(train_df['SalePrice'])\n",
    "axes[2].hist(log_price, bins=50, edgecolor='black', alpha=0.7)\n",
    "axes[2].set_title('對數房價分佈')\n",
    "axes[2].set_xlabel('log(房價)')\n",
    "axes[2].set_ylabel('頻率')\n",
    "\n",
    "plt.tight_layout()\n",
    "plt.show()\n",
    "\n",
    "# 統計描述\n",
    "print(\"[bold]房價統計摘要：[/bold]\")\n",
    "print(train_df['SalePrice'].describe())\n",
    "print(f\"\\n偏度 (Skewness): {train_df['SalePrice'].skew():.3f}\")\n",
    "print(f\"峰度 (Kurtosis): {train_df['SalePrice'].kurtosis():.3f}\")"
   ]
  },
  {
   "cell_type": "markdown",
   "id": "10b3e75d",
   "metadata": {},
   "source": [
    "## 5. 缺失值分析"
   ]
  },
  {
   "cell_type": "code",
   "execution_count": null,
   "id": "a6a60502",
   "metadata": {},
   "outputs": [],
   "source": [
    "# 計算缺失值\n",
    "missing_train = train_df.isnull().sum()\n",
    "missing_train = missing_train[missing_train > 0].sort_values(ascending=False)\n",
    "missing_percent = (missing_train / len(train_df)) * 100\n",
    "\n",
    "# 建立缺失值統計表\n",
    "missing_df = pd.DataFrame({\n",
    "    '缺失數量': missing_train,\n",
    "    '缺失比例': missing_percent\n",
    "})\n",
    "\n",
    "print(\"[bold]訓練資料缺失值統計（前20個）：[/bold]\")\n",
    "print(missing_df.head(20))\n",
    "\n",
    "# 視覺化缺失值\n",
    "plt.figure(figsize=(12, 8))\n",
    "missing_df.head(20).plot(kind='barh')\n",
    "plt.title('缺失值統計（前20個特徵）')\n",
    "plt.xlabel('數量 / 比例')\n",
    "plt.tight_layout()\n",
    "plt.show()"
   ]
  },
  {
   "cell_type": "code",
   "execution_count": null,
   "id": "3eca4c08",
   "metadata": {},
   "outputs": [],
   "source": [
    "# 缺失值模式分析\n",
    "# 檢查高缺失率特徵的含義\n",
    "high_missing_features = missing_df[missing_df['缺失比例'] > 80].index.tolist()\n",
    "\n",
    "print(\"[bold]高缺失率特徵分析：[/bold]\")\n",
    "for feature in high_missing_features:\n",
    "    print(f\"\\n{feature} (缺失 {missing_df.loc[feature, '缺失比例']:.1f}%)\")\n",
    "    if feature == 'PoolQC':\n",
    "        print(\"  → 游泳池品質：大部分房屋可能沒有游泳池\")\n",
    "    elif feature == 'MiscFeature':\n",
    "        print(\"  → 其他特徵：大部分房屋可能沒有特殊設施\")\n",
    "    elif feature == 'Alley':\n",
    "        print(\"  → 巷道類型：大部分房屋可能沒有巷道通行\")\n",
    "    elif feature == 'Fence':\n",
    "        print(\"  → 圍欄品質：大部分房屋可能沒有圍欄\")"
   ]
  },
  {
   "cell_type": "markdown",
   "id": "c75d1437",
   "metadata": {},
   "source": [
    "## 6. 數值特徵初步分析"
   ]
  },
  {
   "cell_type": "code",
   "execution_count": null,
   "id": "dfa78b6f",
   "metadata": {},
   "outputs": [],
   "source": [
    "# 重要數值特徵的統計\n",
    "important_numeric = ['GrLivArea', 'TotalBsmtSF', '1stFlrSF', 'GarageArea', \n",
    "                    'YearBuilt', 'OverallQual', 'OverallCond']\n",
    "\n",
    "print(\"[bold]重要數值特徵統計：[/bold]\")\n",
    "train_df[important_numeric].describe()"
   ]
  },
  {
   "cell_type": "code",
   "execution_count": null,
   "id": "7f20bbd9",
   "metadata": {},
   "outputs": [],
   "source": [
    "# 數值特徵與房價的相關性\n",
    "# 選擇與房價相關性較高的特徵\n",
    "correlations = train_df[numeric_columns].corr()['SalePrice'].sort_values(ascending=False)\n",
    "top_corr_features = correlations.head(15)\n",
    "\n",
    "# 視覺化\n",
    "plt.figure(figsize=(10, 8))\n",
    "top_corr_features.plot(kind='barh')\n",
    "plt.title('與房價相關性最高的15個特徵')\n",
    "plt.xlabel('相關係數')\n",
    "plt.tight_layout()\n",
    "plt.show()\n",
    "\n",
    "print(\"[bold]前10個最相關特徵：[/bold]\")\n",
    "for feature, corr in top_corr_features.head(10).items():\n",
    "    if feature != 'SalePrice':\n",
    "        print(f\"{feature}: {corr:.3f}\")"
   ]
  },
  {
   "cell_type": "markdown",
   "id": "d17d093d",
   "metadata": {},
   "source": [
    "## 7. 初步異常值檢測"
   ]
  },
  {
   "cell_type": "code",
   "execution_count": null,
   "id": "781e56a9",
   "metadata": {},
   "outputs": [],
   "source": [
    "# 檢查極端值\n",
    "fig, axes = plt.subplots(2, 2, figsize=(12, 10))\n",
    "\n",
    "# GrLivArea vs SalePrice\n",
    "axes[0, 0].scatter(train_df['GrLivArea'], train_df['SalePrice'], alpha=0.5)\n",
    "axes[0, 0].set_xlabel('地上居住面積')\n",
    "axes[0, 0].set_ylabel('房價')\n",
    "axes[0, 0].set_title('居住面積 vs 房價')\n",
    "\n",
    "# 標記可能的異常值\n",
    "outliers = train_df[train_df['GrLivArea'] > 4000]\n",
    "axes[0, 0].scatter(outliers['GrLivArea'], outliers['SalePrice'], \n",
    "                   color='red', s=100, marker='x')\n",
    "\n",
    "# TotalBsmtSF vs SalePrice\n",
    "axes[0, 1].scatter(train_df['TotalBsmtSF'], train_df['SalePrice'], alpha=0.5)\n",
    "axes[0, 1].set_xlabel('地下室總面積')\n",
    "axes[0, 1].set_ylabel('房價')\n",
    "axes[0, 1].set_title('地下室面積 vs 房價')\n",
    "\n",
    "# YearBuilt distribution\n",
    "axes[1, 0].hist(train_df['YearBuilt'], bins=50, edgecolor='black')\n",
    "axes[1, 0].set_xlabel('建造年份')\n",
    "axes[1, 0].set_ylabel('頻率')\n",
    "axes[1, 0].set_title('建造年份分佈')\n",
    "\n",
    "# OverallQual vs SalePrice boxplot\n",
    "train_df.boxplot(column='SalePrice', by='OverallQual', ax=axes[1, 1])\n",
    "axes[1, 1].set_xlabel('整體品質評分')\n",
    "axes[1, 1].set_ylabel('房價')\n",
    "axes[1, 1].set_title('品質評分 vs 房價')\n",
    "\n",
    "plt.tight_layout()\n",
    "plt.show()\n",
    "\n",
    "# 異常值統計\n",
    "print(\"[bold]潛在異常值：[/bold]\")\n",
    "print(f\"居住面積 > 4000 sqft: {len(outliers)} 筆\")\n",
    "print(f\"房價 > $700,000: {len(train_df[train_df['SalePrice'] > 700000])} 筆\")\n",
    "print(f\"建造年份 < 1900: {len(train_df[train_df['YearBuilt'] < 1900])} 筆\")"
   ]
  },
  {
   "cell_type": "markdown",
   "id": "bbc3fe49",
   "metadata": {},
   "source": [
    "## 8. 儲存初步分析結果"
   ]
  },
  {
   "cell_type": "code",
   "execution_count": null,
   "id": "8337ba39",
   "metadata": {},
   "outputs": [],
   "source": [
    "# 儲存資料基本資訊\n",
    "data_loader.save_data_info(train_df, test_df)\n",
    "\n",
    "# 建立初步分析報告\n",
    "initial_analysis = {\n",
    "    'data_shape': {\n",
    "        'train': train_df.shape,\n",
    "        'test': test_df.shape\n",
    "    },\n",
    "    'target_stats': {\n",
    "        'mean': train_df['SalePrice'].mean(),\n",
    "        'median': train_df['SalePrice'].median(),\n",
    "        'std': train_df['SalePrice'].std(),\n",
    "        'skewness': train_df['SalePrice'].skew(),\n",
    "        'kurtosis': train_df['SalePrice'].kurtosis()\n",
    "    },\n",
    "    'missing_features': missing_df.to_dict(),\n",
    "    'high_corr_features': top_corr_features.head(10).to_dict(),\n",
    "    'numeric_features': len(numeric_columns),\n",
    "    'categorical_features': len(categorical_columns)\n",
    "}\n",
    "\n",
    "# 儲存分析結果\n",
    "import json\n",
    "with open('reports/initial_analysis.json', 'w') as f:\n",
    "    json.dump(initial_analysis, f, indent=2, default=str)\n",
    "\n",
    "print(\"[green]✓ 初步分析完成！結果已儲存到 reports/ 目錄[/green]\")"
   ]
  },
  {
   "cell_type": "markdown",
   "id": "8cd8b1e2",
   "metadata": {},
   "source": [
    "## 9. 下一步計劃\n",
    "\n",
    "基於初步分析，我們識別了以下重點：\n",
    "\n",
    "### 資料品質問題：\n",
    "1. **缺失值處理**：某些特徵有大量缺失值，需要分析是結構性缺失還是隨機缺失\n",
    "2. **異常值處理**：發現一些極端值需要進一步驗證\n",
    "3. **目標變數轉換**：房價呈右偏分佈，需要對數轉換\n",
    "\n",
    "### 特徵工程機會：\n",
    "1. **高相關特徵**：OverallQual, GrLivArea, GarageCars 等與房價高度相關\n",
    "2. **時間特徵**：可以從年份創建房齡等衍生特徵\n",
    "3. **面積特徵**：可以組合多個面積特徵創建總面積\n",
    "\n",
    "### 第2週任務預覽：\n",
    "- 深度 EDA 分析\n",
    "- 完整的缺失值處理策略\n",
    "- 異常值深入分析\n",
    "- 建立基線模型"
   ]
  }
 ],
 "metadata": {
  "kernelspec": {
   "display_name": "Python 3 (ipykernel)",
   "language": "python",
   "name": "python3"
  },
  "language_info": {
   "codemirror_mode": {
    "name": "ipython",
    "version": 3
   },
   "file_extension": ".py",
   "mimetype": "text/x-python",
   "name": "python",
   "nbconvert_exporter": "python",
   "pygments_lexer": "ipython3",
   "version": "3.12.4"
  }
 },
 "nbformat": 4,
 "nbformat_minor": 5
}
